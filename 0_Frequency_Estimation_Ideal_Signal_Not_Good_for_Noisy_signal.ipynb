{
 "cells": [
  {
   "cell_type": "code",
   "execution_count": 3,
   "id": "7d8dbedb",
   "metadata": {},
   "outputs": [],
   "source": [
    "def freqCalc(signal):\n",
    "    length=len(signal);\n",
    "    count_fperiod=0;\n",
    "    first_element=signal[0];\n",
    "    repeat_cycle=0;\n",
    "\n",
    "    for t in signal:\n",
    "        if t==first_element:\n",
    "            repeat_cycle+=1 ;\n",
    "\n",
    "        if repeat_cycle>1:\n",
    "            break;\n",
    "        count_fperiod+=1;\n",
    "\n",
    "\n",
    "    number_of_cycles = length//count_fperiod;\n",
    "    frequency=1/count_fperiod;\n",
    "\n",
    "    print(f'Number of cycles: {number_of_cycles} cycles');\n",
    "    print(f'Time period (ms): {count_fperiod} ms');\n",
    "    print(f'Frequency (KHz): {frequency} KHz');\n"
   ]
  },
  {
   "cell_type": "code",
   "execution_count": 4,
   "id": "de643726",
   "metadata": {},
   "outputs": [
    {
     "name": "stdout",
     "output_type": "stream",
     "text": [
      "Number of cycles: 3 cycles\n",
      "Time period (ms): 2 ms\n",
      "Frequency (KHz): 0.5 KHz\n",
      "Number of cycles: 3 cycles\n",
      "Time period (ms): 3 ms\n",
      "Frequency (KHz): 0.3333333333333333 KHz\n",
      "Number of cycles: 4 cycles\n",
      "Time period (ms): 6 ms\n",
      "Frequency (KHz): 0.16666666666666666 KHz\n"
     ]
    }
   ],
   "source": [
    "signal1=[0,1,2,3,2,1,0,1,2,3,2,1,0,1,2,3,2,1,0,1,2,3,2,1,0];\n",
    "signal2=[2,3,4,2,3,4,2,3,4];\n",
    "signal3=[1,2,1,2,1,2,1];\n",
    "\n",
    "freqCalc(signal3);\n",
    "freqCalc(signal2);\n",
    "freqCalc(signal1);"
   ]
  },
  {
   "cell_type": "code",
   "execution_count": null,
   "id": "d48c6779",
   "metadata": {},
   "outputs": [],
   "source": []
  },
  {
   "cell_type": "code",
   "execution_count": null,
   "id": "0afff4b3",
   "metadata": {},
   "outputs": [],
   "source": []
  },
  {
   "cell_type": "code",
   "execution_count": null,
   "id": "0bdb6b53",
   "metadata": {},
   "outputs": [],
   "source": []
  },
  {
   "cell_type": "code",
   "execution_count": null,
   "id": "96b06a99",
   "metadata": {},
   "outputs": [],
   "source": []
  },
  {
   "cell_type": "code",
   "execution_count": null,
   "id": "7a4bab39",
   "metadata": {},
   "outputs": [],
   "source": []
  },
  {
   "cell_type": "code",
   "execution_count": null,
   "id": "a592a672",
   "metadata": {},
   "outputs": [],
   "source": []
  },
  {
   "cell_type": "code",
   "execution_count": null,
   "id": "0692b05f",
   "metadata": {},
   "outputs": [],
   "source": []
  },
  {
   "cell_type": "code",
   "execution_count": null,
   "id": "a6dc4bab",
   "metadata": {},
   "outputs": [],
   "source": []
  },
  {
   "cell_type": "code",
   "execution_count": null,
   "id": "112374c8",
   "metadata": {},
   "outputs": [],
   "source": []
  }
 ],
 "metadata": {
  "kernelspec": {
   "display_name": "Python 3 (ipykernel)",
   "language": "python",
   "name": "python3"
  },
  "language_info": {
   "codemirror_mode": {
    "name": "ipython",
    "version": 3
   },
   "file_extension": ".py",
   "mimetype": "text/x-python",
   "name": "python",
   "nbconvert_exporter": "python",
   "pygments_lexer": "ipython3",
   "version": "3.10.4"
  }
 },
 "nbformat": 4,
 "nbformat_minor": 5
}
