{
 "cells": [
  {
   "cell_type": "markdown",
   "id": "d7341c09-bdd1-4d10-8e23-be519074599c",
   "metadata": {},
   "source": [
    "# zero crossing method"
   ]
  },
  {
   "cell_type": "code",
   "execution_count": 1,
   "id": "8de8660a-3831-4bb5-8116-1c351cbb9878",
   "metadata": {},
   "outputs": [],
   "source": [
    "import numpy as np\n",
    "import pandas as pd\n",
    "from __future__ import division\n",
    "from numpy.fft import rfft\n",
    "from numpy import argmax, mean, diff, log, nonzero"
   ]
  },
  {
   "cell_type": "code",
   "execution_count": 2,
   "id": "86d4c80e-7980-4e48-97d2-f0f9535ec982",
   "metadata": {},
   "outputs": [],
   "source": [
    "excel_file=\"sinwave_snr200dB_1.5Hz_Fs100Hz.xlsx\"\n",
    "df=pd.read_excel(excel_file)\n",
    "signal= df['amplitude'].values\n",
    "signal=signal+5                        #Adding dc value\n",
    "signal_new=signal-np.mean(signal)      #\n",
    "fs=100"
   ]
  },
  {
   "cell_type": "code",
   "execution_count": 3,
   "id": "59ff82a8-352c-43d8-a172-0d5281135d19",
   "metadata": {},
   "outputs": [],
   "source": [
    "indices=[]\n",
    "# Find all indices right before a rising-edge zero crossing\n",
    "for i in range(0,len(signal)):\n",
    "    \n",
    "    \n",
    "    if signal_new[i] > 0 and signal_new[i - 1] < 0:\n",
    "        \n",
    "        indices.append(i)\n",
    "        \n",
    "frequency =fs / mean(diff(indices))"
   ]
  },
  {
   "cell_type": "code",
   "execution_count": 4,
   "id": "33ad25f0-ae57-4968-99b6-1b4d555c37b1",
   "metadata": {},
   "outputs": [
    {
     "name": "stdout",
     "output_type": "stream",
     "text": [
      "Desired frequency(in hz):  2\n",
      "Estimated_frequency(in hz): 4.016064257028113\n",
      "error: -100.80321285140563 %\n"
     ]
    }
   ],
   "source": [
    "Desired_freq=2\n",
    "print(\"Desired frequency(in hz): \",2)\n",
    "print(\"Estimated_frequency(in hz):\",frequency)\n",
    "error=(((Desired_freq)-(frequency))/Desired_freq)*100\n",
    "print(f\"error: {error} %\")"
   ]
  },
  {
   "cell_type": "code",
   "execution_count": null,
   "id": "bbd90ed1-2ec5-4431-a956-b660eee3cb9a",
   "metadata": {},
   "outputs": [],
   "source": []
  },
  {
   "cell_type": "code",
   "execution_count": null,
   "id": "86811cd0-db18-4053-acbe-3e087fd9de3e",
   "metadata": {},
   "outputs": [],
   "source": []
  }
 ],
 "metadata": {
  "kernelspec": {
   "display_name": "Python 3 (ipykernel)",
   "language": "python",
   "name": "python3"
  },
  "language_info": {
   "codemirror_mode": {
    "name": "ipython",
    "version": 3
   },
   "file_extension": ".py",
   "mimetype": "text/x-python",
   "name": "python",
   "nbconvert_exporter": "python",
   "pygments_lexer": "ipython3",
   "version": "3.10.4"
  }
 },
 "nbformat": 4,
 "nbformat_minor": 5
}
