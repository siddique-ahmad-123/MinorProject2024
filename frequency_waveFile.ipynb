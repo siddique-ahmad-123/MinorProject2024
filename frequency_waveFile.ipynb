{
 "cells": [
  {
   "cell_type": "code",
   "execution_count": 2,
   "id": "10ff3d1a",
   "metadata": {},
   "outputs": [
    {
     "name": "stdout",
     "output_type": "stream",
     "text": [
      "Dominant frequency: 95.0 Hz\n"
     ]
    }
   ],
   "source": [
    "import numpy as np\n",
    "from scipy.io import wavfile\n",
    "\n",
    "# Load the wave file\n",
    "sample_rate, data = wavfile.read('lss1d-r9a7s.wav')\n",
    "\n",
    "# Compute the FFT\n",
    "fft_output = np.fft.fft(data)\n",
    "\n",
    "# Calculate the frequencies corresponding to the FFT\n",
    "frequencies = np.fft.fftfreq(len(data), 1/sample_rate)\n",
    "\n",
    "# Find the index of the maximum magnitude in the FFT output\n",
    "max_index = np.argmax(np.abs(fft_output))\n",
    "\n",
    "# The corresponding frequency is given by the frequencies array\n",
    "dominant_frequency = frequencies[max_index]\n",
    "\n",
    "print(\"Dominant frequency:\", abs(dominant_frequency), \"Hz\")"
   ]
  }
 ],
 "metadata": {
  "kernelspec": {
   "display_name": "Python 3 (ipykernel)",
   "language": "python",
   "name": "python3"
  },
  "language_info": {
   "codemirror_mode": {
    "name": "ipython",
    "version": 3
   },
   "file_extension": ".py",
   "mimetype": "text/x-python",
   "name": "python",
   "nbconvert_exporter": "python",
   "pygments_lexer": "ipython3",
   "version": "3.10.4"
  }
 },
 "nbformat": 4,
 "nbformat_minor": 5
}
