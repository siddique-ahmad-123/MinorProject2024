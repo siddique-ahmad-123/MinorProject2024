{
 "cells": [
  {
   "cell_type": "code",
   "execution_count": 43,
   "id": "7eb92cf1-9691-4558-a4ee-3499733ed532",
   "metadata": {},
   "outputs": [
    {
     "name": "stdout",
     "output_type": "stream",
     "text": [
      "Array from CSV file:\n",
      "[ 3.0189e-03  3.0187e-03  3.2470e-03 ...  3.8624e-05 -2.3222e-04\n",
      "  3.6836e-05]\n"
     ]
    }
   ],
   "source": [
    "import numpy as np\n",
    "\n",
    "# Read CSV file into a NumPy array\n",
    "data_array = np.genfromtxt('input_audio.csv', delimiter=',')\n",
    "\n",
    "# Display the array\n",
    "print(\"Array from CSV file:\")\n",
    "print(data_array)\n"
   ]
  },
  {
   "cell_type": "code",
   "execution_count": 44,
   "id": "6098bf61-31de-437a-b095-2303d97eb219",
   "metadata": {},
   "outputs": [
    {
     "data": {
      "text/plain": [
       "240000"
      ]
     },
     "execution_count": 44,
     "metadata": {},
     "output_type": "execute_result"
    }
   ],
   "source": [
    "data_array.size"
   ]
  },
  {
   "cell_type": "code",
   "execution_count": 45,
   "id": "c740106a-e8e8-48da-afdf-d5c409149c35",
   "metadata": {},
   "outputs": [
    {
     "name": "stdout",
     "output_type": "stream",
     "text": [
      "Array from CSV file:\n",
      "[-0.00015259  0.          0.00018311  0.00048828  0.00091553  0.0015564\n",
      "  0.0024109   0.0035706   0.0050659   0.0068665   0.0090332   0.011566\n",
      "  0.014374    0.017487    0.020813    0.024323    0.027863    0.031403\n",
      "  0.034851    0.038055    0.040985    0.043488    0.045563    0.047058\n",
      "  0.048004    0.048309    0.048004    0.047058    0.045563    0.043488\n",
      "  0.040985    0.038055    0.034851    0.031403    0.027863    0.024323\n",
      "  0.020813    0.017487    0.014374    0.011566    0.0090332   0.0068665\n",
      "  0.0050659   0.0035706   0.0024109   0.0015564   0.00091553  0.00048828\n",
      "  0.00018311  0.         -0.00015259  0.          0.          0.\n",
      "  0.          0.          0.          0.          0.          0.\n",
      "  0.          0.          0.          0.          0.          0.\n",
      "  0.          0.          0.          0.          0.          0.\n",
      "  0.          0.          0.          0.          0.          0.\n",
      "  0.          0.          0.          0.          0.          0.\n",
      "  0.          0.          0.          0.          0.          0.\n",
      "  0.          0.          0.          0.          0.          0.\n",
      "  0.          0.          0.          0.        ]\n"
     ]
    }
   ],
   "source": [
    "import numpy as np\n",
    "\n",
    "# Read CSV file into a NumPy array\n",
    "data_array_filter = np.genfromtxt('LPF.csv', delimiter=',')\n",
    "# Display the array\n",
    "print(\"Array from CSV file:\")\n",
    "print(data_array_filter)\n"
   ]
  },
  {
   "cell_type": "code",
   "execution_count": 46,
   "id": "d75ae709-41c5-4d3c-ab45-51dce5bd5dc4",
   "metadata": {},
   "outputs": [
    {
     "data": {
      "text/plain": [
       "100"
      ]
     },
     "execution_count": 46,
     "metadata": {},
     "output_type": "execute_result"
    }
   ],
   "source": [
    "data_array_filter.size"
   ]
  },
  {
   "cell_type": "code",
   "execution_count": 47,
   "id": "f595cf83-4e5e-4388-a574-d12cead758e1",
   "metadata": {},
   "outputs": [
    {
     "data": {
      "image/png": "[encoded data removed]",
      "text/plain": [
       "<Figure size 432x288 with 3 Axes>"
      ]
     },
     "metadata": {
      "needs_background": "light"
     },
     "output_type": "display_data"
    }
   ],
   "source": [
    "import numpy as np\n",
    "import matplotlib.pyplot as plt\n",
    "\n",
    "# Define signals (replace these with your data)\n",
    "signal1 = data_array\n",
    "signal2 = data_array_filter\n",
    "\n",
    "# Convolve the signals\n",
    "convolved_signal = np.convolve(signal1, signal2, mode='full')\n",
    "\n",
    "# Plot the convolved signal\n",
    "plt.subplot(3,1,1)\n",
    "plt.plot(convolved_signal)\n",
    "plt.title('Convolved Signal')\n",
    "plt.xlabel('Sample Index')\n",
    "plt.ylabel('Amplitude')\n",
    "\n",
    "\n",
    "plt.subplot(3,1,2)\n",
    "plt.plot(data_array_filter)\n",
    "plt.title('Impulse response')\n",
    "plt.xlabel('Sample Index')\n",
    "plt.ylabel('Amplitude')\n",
    "\n",
    "plt.subplot(3,1,3)\n",
    "plt.plot(data_array)\n",
    "plt.title('original Signal')\n",
    "plt.grid(True)\n",
    "plt.show()\n"
   ]
  },
  {
   "cell_type": "code",
   "execution_count": 48,
   "id": "d5bf4f16-32de-4efe-b2ee-7074b807c0d1",
   "metadata": {},
   "outputs": [],
   "source": [
    "# import numpy as np\n",
    "# import sounddevice as sd\n",
    "\n",
    "# # Define the convolved result (replace this with your actual convolved signal)\n",
    "convolved_result = convolved_signal # Example: random data with 44100 samples (1 second)\n",
    "\n",
    "# # Play the convolved result\n",
    "# sd.play(convolved_result, samplerate=48000)\n",
    "# sd.wait()  # Wait for playback to finish"
   ]
  },
  {
   "cell_type": "code",
   "execution_count": 49,
   "id": "cab89841-61f0-4f67-8940-fdbdf08c56bf",
   "metadata": {},
   "outputs": [],
   "source": [
    "from scipy.io import wavfile\n",
    "convolved_data_int16 = np.int16(convolved_result * 32767)\n",
    "\n",
    "# Write convolved data to a WAV file\n",
    "wavfile.write('output_audio.wav', 48000, convolved_data_int16)"
   ]
  },
  {
   "cell_type": "code",
   "execution_count": null,
   "id": "c2c6ba6f-fef5-4a29-8c02-a9f62b05f67b",
   "metadata": {},
   "outputs": [],
   "source": []
  }
 ],
 "metadata": {
  "kernelspec": {
   "display_name": "Python 3 (ipykernel)",
   "language": "python",
   "name": "python3"
  },
  "language_info": {
   "codemirror_mode": {
    "name": "ipython",
    "version": 3
   },
   "file_extension": ".py",
   "mimetype": "text/x-python",
   "name": "python",
   "nbconvert_exporter": "python",
   "pygments_lexer": "ipython3",
   "version": "3.10.4"
  }
 },
 "nbformat": 4,
 "nbformat_minor": 5
}
