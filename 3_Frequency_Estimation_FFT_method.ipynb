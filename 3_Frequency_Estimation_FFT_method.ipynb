{
 "cells": [
  {
   "cell_type": "markdown",
   "id": "97306764-535d-4f84-aaa9-01cd408d236c",
   "metadata": {},
   "source": [
    "# FFT METHOD\n"
   ]
  },
  {
   "cell_type": "code",
   "execution_count": 42,
   "id": "2fbb7bd2-373e-4911-ae21-fac14859298b",
   "metadata": {},
   "outputs": [],
   "source": [
    "import pandas as pd\n",
    "import numpy as np\n",
    "import matplotlib.pyplot as plt\n",
    "from scipy.fft import fft, ifft\n",
    "from scipy.signal import find_peaks\n",
    "excel_file=\"sinwave_snr10dB_3Hz_Fs100Hz.xlsx\" #we are getting more error on floating point value\n",
    "df=pd.read_excel(excel_file)\n",
    "amplitude = df['amplitude'].values\n",
    "amplitude=amplitude+5\n",
    "amplitude_new=amplitude-np.mean(amplitude)"
   ]
  },
  {
   "cell_type": "code",
   "execution_count": 43,
   "id": "a6ebf2ab-276e-4558-90a8-71620970d532",
   "metadata": {},
   "outputs": [
    {
     "name": "stdout",
     "output_type": "stream",
     "text": [
      "500\n"
     ]
    }
   ],
   "source": [
    "fft_result = fft(amplitude_new)\n",
    "fs=100\n",
    "print(len(fft_result))"
   ]
  },
  {
   "cell_type": "code",
   "execution_count": 44,
   "id": "71da359e-d003-4160-9ea6-d3161424fd22",
   "metadata": {},
   "outputs": [],
   "source": [
    "frequencies = np.fft.fftfreq(len(fft_result), 1 / fs) #generate an array of frequencies corresponding to each point in the FFT result.\n",
    "#                                                     These frequencies represent the different frequency components present in the original signal.\n",
    "\n",
    "#print(frequencies)"
   ]
  },
  {
   "cell_type": "code",
   "execution_count": 45,
   "id": "2321c5ac-6a17-4950-8606-836c17b7d93f",
   "metadata": {},
   "outputs": [],
   "source": [
    "# Find the index of the maximum amplitude in the FFT result\n",
    "\n",
    "max_amplitude_index = np.argmax(np.abs(fft_result))\n"
   ]
  },
  {
   "cell_type": "code",
   "execution_count": 46,
   "id": "02055aa8-91dd-46f4-9a2f-56483065d02c",
   "metadata": {},
   "outputs": [
    {
     "name": "stdout",
     "output_type": "stream",
     "text": [
      "Estimated Frequency: 3.0 Hz\n"
     ]
    },
    {
     "data": {
      "image/png": "[encoded data removed]",
      "text/plain": [
       "<Figure size 432x288 with 1 Axes>"
      ]
     },
     "metadata": {
      "needs_background": "light"
     },
     "output_type": "display_data"
    }
   ],
   "source": [
    "# Extract the corresponding frequency\n",
    "estimated_frequency = frequencies[max_amplitude_index]\n",
    "\n",
    "print(f'Estimated Frequency: {abs(estimated_frequency)} Hz')\n",
    "\n",
    "# Plot the FFT result for visualization\n",
    "plt.plot(frequencies, np.abs(fft_result))\n",
    "plt.title('FFT Result')\n",
    "plt.xlabel('Frequency (Hz)')\n",
    "plt.ylabel('Amplitude')\n",
    "plt.show()"
   ]
  },
  {
   "cell_type": "code",
   "execution_count": null,
   "id": "2e0dab53-ceec-4439-a7d4-dccc50f5c3e8",
   "metadata": {},
   "outputs": [],
   "source": []
  }
 ],
 "metadata": {
  "kernelspec": {
   "display_name": "Python 3 (ipykernel)",
   "language": "python",
   "name": "python3"
  },
  "language_info": {
   "codemirror_mode": {
    "name": "ipython",
    "version": 3
   },
   "file_extension": ".py",
   "mimetype": "text/x-python",
   "name": "python",
   "nbconvert_exporter": "python",
   "pygments_lexer": "ipython3",
   "version": "3.10.4"
  }
 },
 "nbformat": 4,
 "nbformat_minor": 5
}
