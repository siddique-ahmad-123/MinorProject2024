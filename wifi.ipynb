{
 "cells": [
  {
   "cell_type": "code",
   "execution_count": 1,
   "id": "41ba08a5",
   "metadata": {},
   "outputs": [
    {
     "data": {
      "application/javascript": [
       "\n",
       "try {\n",
       "require(['notebook/js/codecell'], function(codecell) {\n",
       "  codecell.CodeCell.options_default.highlight_modes[\n",
       "      'magic_text/x-csrc'] = {'reg':[/^%%microblaze/]};\n",
       "  Jupyter.notebook.events.one('kernel_ready.Kernel', function(){\n",
       "      Jupyter.notebook.get_cells().map(function(cell){\n",
       "          if (cell.cell_type == 'code'){ cell.auto_highlight(); } }) ;\n",
       "  });\n",
       "});\n",
       "} catch (e) {};\n"
      ]
     },
     "metadata": {},
     "output_type": "display_data"
    },
    {
     "data": {
      "application/javascript": [
       "\n",
       "try {\n",
       "require(['notebook/js/codecell'], function(codecell) {\n",
       "  codecell.CodeCell.options_default.highlight_modes[\n",
       "      'magic_text/x-csrc'] = {'reg':[/^%%pybind11/]};\n",
       "  Jupyter.notebook.events.one('kernel_ready.Kernel', function(){\n",
       "      Jupyter.notebook.get_cells().map(function(cell){\n",
       "          if (cell.cell_type == 'code'){ cell.auto_highlight(); } }) ;\n",
       "  });\n",
       "});\n",
       "} catch (e) {};\n"
      ]
     },
     "metadata": {},
     "output_type": "display_data"
    }
   ],
   "source": [
    "from pynq.lib import Wifi\n",
    "port = Wifi()"
   ]
  },
  {
   "cell_type": "code",
   "execution_count": 2,
   "id": "1661bf61",
   "metadata": {},
   "outputs": [
    {
     "name": "stdout",
     "output_type": "stream",
     "text": [
      "Type in the SSID:poco\n",
      "Type in the password:gk6347283\n"
     ]
    }
   ],
   "source": [
    "ssid = input(\"Type in the SSID:\")\n",
    "pwd = input(\"Type in the password:\")\n",
    "port.connect(ssid, pwd)\n",
    "force=True;"
   ]
  },
  {
   "cell_type": "code",
   "execution_count": 3,
   "id": "b7667450",
   "metadata": {},
   "outputs": [
    {
     "name": "stdout",
     "output_type": "stream",
     "text": [
      "PING www.google.com (142.250.194.164) from 192.168.234.58 wlan0: 56(84) bytes of data.\n",
      "64 bytes from del12s06-in-f4.1e100.net (142.250.194.164): icmp_seq=1 ttl=115 time=97.9 ms\n",
      "64 bytes from del12s06-in-f4.1e100.net (142.250.194.164): icmp_seq=2 ttl=115 time=12.7 ms\n",
      "64 bytes from del12s06-in-f4.1e100.net (142.250.194.164): icmp_seq=3 ttl=115 time=11.8 ms\n",
      "64 bytes from del12s06-in-f4.1e100.net (142.250.194.164): icmp_seq=4 ttl=115 time=19.8 ms\n",
      "64 bytes from del12s06-in-f4.1e100.net (142.250.194.164): icmp_seq=5 ttl=115 time=9.75 ms\n",
      "\n",
      "--- www.google.com ping statistics ---\n",
      "5 packets transmitted, 5 received, 0% packet loss, time 4006ms\n",
      "rtt min/avg/max/mdev = 9.748/30.401/97.881/33.908 ms\n"
     ]
    }
   ],
   "source": [
    "! ping -I wlan0 www.google.com -c 5"
   ]
  },
  {
   "cell_type": "code",
   "execution_count": null,
   "id": "743f85cb",
   "metadata": {},
   "outputs": [],
   "source": []
  },
  {
   "cell_type": "code",
   "execution_count": null,
   "id": "fa2800e6",
   "metadata": {},
   "outputs": [],
   "source": []
  }
 ],
 "metadata": {
  "kernelspec": {
   "display_name": "Python 3 (ipykernel)",
   "language": "python",
   "name": "python3"
  },
  "language_info": {
   "codemirror_mode": {
    "name": "ipython",
    "version": 3
   },
   "file_extension": ".py",
   "mimetype": "text/x-python",
   "name": "python",
   "nbconvert_exporter": "python",
   "pygments_lexer": "ipython3",
   "version": "3.10.4"
  }
 },
 "nbformat": 4,
 "nbformat_minor": 5
}
