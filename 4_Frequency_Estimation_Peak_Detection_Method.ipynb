{
 "cells": [
  {
   "cell_type": "code",
   "execution_count": 3,
   "id": "dcf7130c-7dde-45f6-b0bf-e2eda80d724b",
   "metadata": {},
   "outputs": [
    {
     "name": "stdout",
     "output_type": "stream",
     "text": [
      "1.502145922746781\n"
     ]
    }
   ],
   "source": [
    "import pandas as pd\n",
    "import numpy as np\n",
    "from scipy.signal import find_peaks\n",
    "import matplotlib.pyplot as plt\n",
    "\n",
    "def calculate_frequency(file_path):\n",
    "    # Read data from Excel file\n",
    "    df = pd.read_excel(file_path)\n",
    "\n",
    "    # Assuming the Excel file has a column named 'Amplitude'\n",
    "    amplitude = df['amplitude'].values\n",
    "\n",
    "    # Find peaks in the signal\n",
    "    peaks, _ = find_peaks(amplitude)\n",
    "\n",
    "    # Calculate the index difference between consecutive peaks\n",
    "    index_diff = np.diff(peaks)\n",
    "\n",
    "    # Calculate the frequency as the reciprocal of the mean index difference\n",
    "    frequency = 1 / np.mean(index_diff)\n",
    "\n",
    "    return frequency\n",
    "fs=100\n",
    "# Example usage:\n",
    "excel_file_path = 'sinwave_snr200dB_1.5Hz_Fs100Hz.xlsx'\n",
    "calculated_frequency = calculate_frequency(excel_file_path)\n",
    "print(calculated_frequency*fs)"
   ]
  },
  {
   "cell_type": "code",
   "execution_count": null,
   "id": "c362e2c9",
   "metadata": {},
   "outputs": [],
   "source": []
  }
 ],
 "metadata": {
  "kernelspec": {
   "display_name": "Python 3 (ipykernel)",
   "language": "python",
   "name": "python3"
  },
  "language_info": {
   "codemirror_mode": {
    "name": "ipython",
    "version": 3
   },
   "file_extension": ".py",
   "mimetype": "text/x-python",
   "name": "python",
   "nbconvert_exporter": "python",
   "pygments_lexer": "ipython3",
   "version": "3.10.4"
  }
 },
 "nbformat": 4,
 "nbformat_minor": 5
}
