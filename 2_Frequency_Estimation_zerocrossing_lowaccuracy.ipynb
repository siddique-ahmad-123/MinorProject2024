{
 "cells": [
  {
   "cell_type": "code",
   "execution_count": 1,
   "id": "1af7a8a7-53b4-4237-83fb-c3c5e8716ab5",
   "metadata": {},
   "outputs": [],
   "source": [
    "import numpy as np\n",
    "import pandas as pd\n",
    "from __future__ import division\n",
    "from numpy.fft import rfft\n",
    "from numpy import argmax, mean, diff, log, nonzero"
   ]
  },
  {
   "cell_type": "code",
   "execution_count": 2,
   "id": "59ff82a8-352c-43d8-a172-0d5281135d19",
   "metadata": {},
   "outputs": [],
   "source": [
    "def freq_from_crossings(signal, fs):\n",
    "    \"\"\"\n",
    "    Estimate frequency by counting zero crossings\n",
    "    \"\"\"\n",
    "    # Find all indices right before a rising-edge zero crossing\n",
    "    \n",
    "    indices = nonzero((signal[1:] >= 0) & (signal[:-1] < 0))[0] #nonzero returns the indices where the condition is true. It checks if the current \n",
    "                                                                #sample is greater than or equal to 0, and the previous sample is less than 0.\n",
    "    \n",
    "    \n",
    "#     crossings = [i - signal[i] / (signal[i+1] - signal[i]) for i in indices]\n",
    "\n",
    "    # Some other interpolation based on neighboring points might be better.\n",
    "    # Spline, cubic, whatever\n",
    "\n",
    "    return fs / mean(diff(indices))\n",
    "\n"
   ]
  },
  {
   "cell_type": "code",
   "execution_count": 3,
   "id": "33ad25f0-ae57-4968-99b6-1b4d555c37b1",
   "metadata": {},
   "outputs": [
    {
     "name": "stdout",
     "output_type": "stream",
     "text": [
      "1.5\n"
     ]
    }
   ],
   "source": [
    "excel_file=\"sinwave_snr10dB_1.5Hz_Fs100Hz.xlsx\"\n",
    "df=pd.read_excel(excel_file)\n",
    "signal= df['amplitude'].values\n",
    "fs=100\n",
    "estimated_frequency = freq_from_crossings(signal, fs)\n",
    "print(estimated_frequency)\n"
   ]
  },
  {
   "cell_type": "code",
   "execution_count": null,
   "id": "bbd90ed1-2ec5-4431-a956-b660eee3cb9a",
   "metadata": {},
   "outputs": [],
   "source": []
  },
  {
   "cell_type": "code",
   "execution_count": null,
   "id": "86811cd0-db18-4053-acbe-3e087fd9de3e",
   "metadata": {},
   "outputs": [],
   "source": []
  }
 ],
 "metadata": {
  "kernelspec": {
   "display_name": "Python 3 (ipykernel)",
   "language": "python",
   "name": "python3"
  },
  "language_info": {
   "codemirror_mode": {
    "name": "ipython",
    "version": 3
   },
   "file_extension": ".py",
   "mimetype": "text/x-python",
   "name": "python",
   "nbconvert_exporter": "python",
   "pygments_lexer": "ipython3",
   "version": "3.10.4"
  }
 },
 "nbformat": 4,
 "nbformat_minor": 5
}
